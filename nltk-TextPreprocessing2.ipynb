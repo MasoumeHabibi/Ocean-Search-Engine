{
 "cells": [
  {
   "cell_type": "markdown",
   "metadata": {},
   "source": [
    "### import packages"
   ]
  },
  {
   "cell_type": "code",
   "execution_count": 1,
   "metadata": {
    "collapsed": true
   },
   "outputs": [],
   "source": [
    "import warnings\n",
    "warnings.filterwarnings(\"ignore\")"
   ]
  },
  {
   "cell_type": "code",
   "execution_count": 37,
   "metadata": {
    "collapsed": true
   },
   "outputs": [],
   "source": [
    "import numpy as np\n",
    "import pandas as pd\n",
    "import re\n",
    "import nltk\n",
    "from nltk.corpus import stopwords\n",
    "from nltk.stem import PorterStemmer\n",
    "from sklearn.feature_extraction.text import CountVectorizer\n",
    "from sklearn.feature_extraction.text import TfidfVectorizer\n",
    "from bs4 import BeautifulSoup\n",
    "from nltk.tokenize import word_tokenize\n",
    "from nltk.tokenize import ToktokTokenizer\n",
    "import string as str"
   ]
  },
  {
   "cell_type": "code",
   "execution_count": 47,
   "metadata": {},
   "outputs": [],
   "source": [
    "import spacy\n",
    "import unidecode\n",
    "from word2number import w2n\n",
    "import contractions\n",
    "from gensim.models import Word2Vec "
   ]
  },
  {
   "cell_type": "markdown",
   "metadata": {},
   "source": [
    "### data"
   ]
  },
  {
   "cell_type": "code",
   "execution_count": 3,
   "metadata": {},
   "outputs": [
    {
     "data": {
      "text/plain": [
       "\"<body> The parts of a Written or spoken Statement that precede or Follow a specific Word or passage, ^_^ usually <br/> influencing it's meaning <br/> or effect #meaning: You have misinterpreted #passage my Remark because you took it out of context. minarahimi@yahoo.com The set of circumstances or facts that surround a particular event,< situation, etc. ali-hamidi@gmail.com </body>. like three butterflies in the garden\""
      ]
     },
     "execution_count": 3,
     "metadata": {},
     "output_type": "execute_result"
    }
   ],
   "source": [
    "text = \"<body> The parts of a Written or spoken Statement that precede or Follow a specific Word or passage, ^_^ usually <br/> influencing it's meaning <br/> or effect #meaning: You have misinterpreted #passage my Remark because you took it out of context. minarahimi@yahoo.com The set of circumstances or facts that surround a particular event,< situation, etc. ali-hamidi@gmail.com </body>. like three butterflies in the garden\"\n",
    "text"
   ]
  },
  {
   "cell_type": "markdown",
   "metadata": {},
   "source": [
    "### remove html tags"
   ]
  },
  {
   "cell_type": "code",
   "execution_count": 4,
   "metadata": {
    "collapsed": true
   },
   "outputs": [],
   "source": [
    "def del_html_tag(df):\n",
    "    soup = BeautifulSoup(df, \"html.parser\")\n",
    "    stripped_text = soup.get_text(separator = \"\")\n",
    "    return stripped_text"
   ]
  },
  {
   "cell_type": "code",
   "execution_count": 5,
   "metadata": {
    "collapsed": true
   },
   "outputs": [],
   "source": [
    "first_clean_data = del_html_tag(df = text)"
   ]
  },
  {
   "cell_type": "code",
   "execution_count": 6,
   "metadata": {},
   "outputs": [
    {
     "data": {
      "text/plain": [
       "\" The parts of a Written or spoken Statement that precede or Follow a specific Word or passage, ^_^ usually  influencing it's meaning  or effect #meaning: You have misinterpreted #passage my Remark because you took it out of context. minarahimi@yahoo.com The set of circumstances or facts that surround a particular event,< situation, etc. ali-hamidi@gmail.com . like three butterflies in the garden\""
      ]
     },
     "execution_count": 6,
     "metadata": {},
     "output_type": "execute_result"
    }
   ],
   "source": [
    "first_clean_data"
   ]
  },
  {
   "cell_type": "markdown",
   "metadata": {},
   "source": [
    "### remove emails"
   ]
  },
  {
   "cell_type": "code",
   "execution_count": 7,
   "metadata": {
    "collapsed": true
   },
   "outputs": [],
   "source": [
    "def remove_email(df):\n",
    "    match = r'[\\w-]+@[\\w.]+'\n",
    "    return re.sub(match, '', df)"
   ]
  },
  {
   "cell_type": "code",
   "execution_count": 8,
   "metadata": {
    "collapsed": true,
    "scrolled": true
   },
   "outputs": [],
   "source": [
    "second_clean_data = remove_email(df = first_clean_data)"
   ]
  },
  {
   "cell_type": "code",
   "execution_count": 9,
   "metadata": {},
   "outputs": [
    {
     "data": {
      "text/plain": [
       "\" The parts of a Written or spoken Statement that precede or Follow a specific Word or passage, ^_^ usually  influencing it's meaning  or effect #meaning: You have misinterpreted #passage my Remark because you took it out of context.  The set of circumstances or facts that surround a particular event,< situation, etc.  . like three butterflies in the garden\""
      ]
     },
     "execution_count": 9,
     "metadata": {},
     "output_type": "execute_result"
    }
   ],
   "source": [
    "second_clean_data"
   ]
  },
  {
   "cell_type": "markdown",
   "metadata": {},
   "source": [
    "### find and remove hashtags"
   ]
  },
  {
   "cell_type": "code",
   "execution_count": 10,
   "metadata": {
    "collapsed": true
   },
   "outputs": [],
   "source": [
    "def hashtag_list(df):\n",
    "    hashtag = re.findall(r'#(\\w+)', df)\n",
    "    return hashtag"
   ]
  },
  {
   "cell_type": "code",
   "execution_count": 11,
   "metadata": {},
   "outputs": [
    {
     "data": {
      "text/plain": [
       "['meaning', 'passage']"
      ]
     },
     "execution_count": 11,
     "metadata": {},
     "output_type": "execute_result"
    }
   ],
   "source": [
    "hashtag = hashtag_list(df = second_clean_data)\n",
    "hashtag"
   ]
  },
  {
   "cell_type": "code",
   "execution_count": 12,
   "metadata": {
    "collapsed": true
   },
   "outputs": [],
   "source": [
    "def remove_hashtag(df):\n",
    "    hashtag_remover = r'#(\\w+)'\n",
    "    return re.sub(hashtag_remover, '', df)"
   ]
  },
  {
   "cell_type": "code",
   "execution_count": 13,
   "metadata": {},
   "outputs": [
    {
     "data": {
      "text/plain": [
       "\" The parts of a Written or spoken Statement that precede or Follow a specific Word or passage, ^_^ usually  influencing it's meaning  or effect : You have misinterpreted  my Remark because you took it out of context.  The set of circumstances or facts that surround a particular event,< situation, etc.  . like three butterflies in the garden\""
      ]
     },
     "execution_count": 13,
     "metadata": {},
     "output_type": "execute_result"
    }
   ],
   "source": [
    "third_clean_data = remove_hashtag(df = second_clean_data)\n",
    "third_clean_data"
   ]
  },
  {
   "cell_type": "markdown",
   "metadata": {},
   "source": [
    "### remove special characters"
   ]
  },
  {
   "cell_type": "code",
   "execution_count": 14,
   "metadata": {
    "collapsed": true
   },
   "outputs": [],
   "source": [
    "def remove_special_characters(df):\n",
    "    special_character = r'[^a-zA-Z0-9.,!?/:;\\\"\\'\\s]'\n",
    "    return re.sub(special_character, '', df)"
   ]
  },
  {
   "cell_type": "code",
   "execution_count": 15,
   "metadata": {},
   "outputs": [
    {
     "data": {
      "text/plain": [
       "\" The parts of a Written or spoken Statement that precede or Follow a specific Word or passage,  usually  influencing it's meaning  or effect : You have misinterpreted  my Remark because you took it out of context.  The set of circumstances or facts that surround a particular event, situation, etc.  . like three butterflies in the garden\""
      ]
     },
     "execution_count": 15,
     "metadata": {},
     "output_type": "execute_result"
    }
   ],
   "source": [
    "fourth_clean_data = remove_special_characters(df = third_clean_data)\n",
    "fourth_clean_data"
   ]
  },
  {
   "cell_type": "markdown",
   "metadata": {},
   "source": [
    "### remove punctuations"
   ]
  },
  {
   "cell_type": "code",
   "execution_count": 21,
   "metadata": {
    "collapsed": true
   },
   "outputs": [],
   "source": [
    "def remove_punctuations(df):\n",
    "    exclude = set(str.punctuation)\n",
    "    df = ''.join([ch for ch in df if ch not in exclude])\n",
    "    return df"
   ]
  },
  {
   "cell_type": "code",
   "execution_count": 22,
   "metadata": {},
   "outputs": [
    {
     "data": {
      "text/plain": [
       "' The parts of a Written or spoken Statement that precede or Follow a specific Word or passage  usually  influencing its meaning  or effect  You have misinterpreted  my Remark because you took it out of context  The set of circumstances or facts that surround a particular event situation etc   like three butterflies in the garden'"
      ]
     },
     "execution_count": 22,
     "metadata": {},
     "output_type": "execute_result"
    }
   ],
   "source": [
    "fifth_clean_data = remove_punctuations(df = fourth_clean_data)\n",
    "fifth_clean_data"
   ]
  },
  {
   "cell_type": "markdown",
   "metadata": {
    "collapsed": true
   },
   "source": [
    "### stemming"
   ]
  },
  {
   "cell_type": "code",
   "execution_count": 23,
   "metadata": {
    "collapsed": true
   },
   "outputs": [],
   "source": [
    "def get_stem(df):\n",
    "    stemmer = nltk.porter.PorterStemmer()\n",
    "    df = ' '.join([stemmer.stem(word) for word in df.split()])\n",
    "    return df"
   ]
  },
  {
   "cell_type": "code",
   "execution_count": 24,
   "metadata": {},
   "outputs": [
    {
     "data": {
      "text/plain": [
       "'the part of a written or spoken statement that preced or follow a specif word or passag usual influenc it mean or effect you have misinterpret my remark becaus you took it out of context the set of circumst or fact that surround a particular event situat etc like three butterfli in the garden'"
      ]
     },
     "execution_count": 24,
     "metadata": {},
     "output_type": "execute_result"
    }
   ],
   "source": [
    "sixth_clean_data = get_stem(df = fifth_clean_data)\n",
    "sixth_clean_data"
   ]
  },
  {
   "cell_type": "markdown",
   "metadata": {},
   "source": [
    "### stop words"
   ]
  },
  {
   "cell_type": "code",
   "execution_count": 38,
   "metadata": {
    "collapsed": true
   },
   "outputs": [],
   "source": [
    "tokenizer = ToktokTokenizer()\n",
    "stopword_list = nltk.corpus.stopwords.words('english')\n",
    "stopword_list.remove('not')"
   ]
  },
  {
   "cell_type": "code",
   "execution_count": 42,
   "metadata": {
    "collapsed": true
   },
   "outputs": [],
   "source": [
    "def remove_stopwords(df):\n",
    "    tokens = tokenizer.tokenize(df)\n",
    "    tokens = [token.strip() for token in tokens]\n",
    "    t = [token for token in tokens if token.lower() not in stopword_list]\n",
    "    df = ' '.join(t)\n",
    "    return df"
   ]
  },
  {
   "cell_type": "code",
   "execution_count": 43,
   "metadata": {},
   "outputs": [
    {
     "data": {
      "text/plain": [
       "'part written spoken statement preced follow specif word passag usual influenc mean effect misinterpret remark becaus took context set circumst fact surround particular event situat etc like three butterfli garden'"
      ]
     },
     "execution_count": 43,
     "metadata": {},
     "output_type": "execute_result"
    }
   ],
   "source": [
    "seventh_clean_data = remove_stopwords(df = sixth_clean_data)\n",
    "seventh_clean_data"
   ]
  },
  {
   "cell_type": "markdown",
   "metadata": {},
   "source": [
    "### tokenizer"
   ]
  },
  {
   "cell_type": "code",
   "execution_count": 44,
   "metadata": {
    "collapsed": true
   },
   "outputs": [],
   "source": [
    "def tokenize(df):\n",
    "    my_word = word_tokenize(df)\n",
    "    return my_word"
   ]
  },
  {
   "cell_type": "code",
   "execution_count": 45,
   "metadata": {},
   "outputs": [
    {
     "data": {
      "text/plain": [
       "['part',\n",
       " 'written',\n",
       " 'spoken',\n",
       " 'statement',\n",
       " 'preced',\n",
       " 'follow',\n",
       " 'specif',\n",
       " 'word',\n",
       " 'passag',\n",
       " 'usual',\n",
       " 'influenc',\n",
       " 'mean',\n",
       " 'effect',\n",
       " 'misinterpret',\n",
       " 'remark',\n",
       " 'becaus',\n",
       " 'took',\n",
       " 'context',\n",
       " 'set',\n",
       " 'circumst',\n",
       " 'fact',\n",
       " 'surround',\n",
       " 'particular',\n",
       " 'event',\n",
       " 'situat',\n",
       " 'etc',\n",
       " 'like',\n",
       " 'three',\n",
       " 'butterfli',\n",
       " 'garden']"
      ]
     },
     "execution_count": 45,
     "metadata": {},
     "output_type": "execute_result"
    }
   ],
   "source": [
    "eightth_clean_data = tokenize(seventh_clean_data)\n",
    "eightth_clean_data"
   ]
  },
  {
   "cell_type": "markdown",
   "metadata": {},
   "source": [
    "## comment"
   ]
  },
  {
   "cell_type": "markdown",
   "metadata": {
    "collapsed": true
   },
   "source": [
    "### lower case"
   ]
  },
  {
   "cell_type": "code",
   "execution_count": 60,
   "metadata": {
    "collapsed": true
   },
   "outputs": [],
   "source": [
    "def lower_case(df):\n",
    "    df = [[word.lower() for word in text.split()] for text in df]\n",
    "    return df"
   ]
  },
  {
   "cell_type": "code",
   "execution_count": 62,
   "metadata": {},
   "outputs": [
    {
     "data": {
      "text/plain": [
       "[['part'],\n",
       " ['written'],\n",
       " ['spoken'],\n",
       " ['statement'],\n",
       " ['preced'],\n",
       " ['follow'],\n",
       " ['specif'],\n",
       " ['word'],\n",
       " ['passag'],\n",
       " ['usual'],\n",
       " ['influenc'],\n",
       " ['mean'],\n",
       " ['effect'],\n",
       " ['misinterpret'],\n",
       " ['remark'],\n",
       " ['becaus'],\n",
       " ['took'],\n",
       " ['context'],\n",
       " ['set'],\n",
       " ['circumst'],\n",
       " ['fact'],\n",
       " ['surround'],\n",
       " ['particular'],\n",
       " ['event'],\n",
       " ['situat'],\n",
       " ['etc'],\n",
       " ['like'],\n",
       " ['three'],\n",
       " ['butterfli'],\n",
       " ['garden']]"
      ]
     },
     "execution_count": 62,
     "metadata": {},
     "output_type": "execute_result"
    }
   ],
   "source": [
    "nineth_clean_data = lower_case(df = eightth_clean_data)\n",
    "nineth_clean_data"
   ]
  },
  {
   "cell_type": "markdown",
   "metadata": {},
   "source": [
    "### expand contractions"
   ]
  },
  {
   "cell_type": "code",
   "execution_count": 43,
   "metadata": {
    "collapsed": true
   },
   "outputs": [],
   "source": [
    "# it's to its\n",
    "def expand(df):\n",
    "    text = contractions.fix(df)\n",
    "    return text"
   ]
  },
  {
   "cell_type": "code",
   "execution_count": 44,
   "metadata": {
    "collapsed": true
   },
   "outputs": [],
   "source": [
    "expand(df = text)"
   ]
  },
  {
   "cell_type": "markdown",
   "metadata": {},
   "source": [
    "### word to number"
   ]
  },
  {
   "cell_type": "code",
   "execution_count": 47,
   "metadata": {
    "collapsed": true
   },
   "outputs": [],
   "source": [
    "#5 to five\n",
    "tokens = [w2n.word_to_num(token.text) if token.pos_ == 'NUM' else token for token in text]\n",
    "\n",
    "print(tokens)"
   ]
  },
  {
   "cell_type": "code",
   "execution_count": 50,
   "metadata": {
    "collapsed": true
   },
   "outputs": [],
   "source": [
    "def stopword(df):\n",
    "    for x in text:\n",
    "        df.vocab[x].is_stop = False"
   ]
  },
  {
   "cell_type": "code",
   "execution_count": 90,
   "metadata": {
    "collapsed": true
   },
   "outputs": [],
   "source": [
    "stopword(df = text)"
   ]
  },
  {
   "cell_type": "markdown",
   "metadata": {
    "collapsed": true
   },
   "source": [
    "### delete numbers"
   ]
  },
  {
   "cell_type": "code",
   "execution_count": 34,
   "metadata": {
    "collapsed": true
   },
   "outputs": [],
   "source": [
    "def remove_numbers(df):\n",
    "    pattern = r'[0-9]'\n",
    "    return re.sub(pattern, '', df)"
   ]
  },
  {
   "cell_type": "code",
   "execution_count": 36,
   "metadata": {},
   "outputs": [],
   "source": [
    "remove_numbers(df = text)"
   ]
  },
  {
   "cell_type": "code",
   "execution_count": null,
   "metadata": {
    "collapsed": true
   },
   "outputs": [],
   "source": []
  }
 ],
 "metadata": {
  "kernelspec": {
   "display_name": "Python 3",
   "language": "python",
   "name": "python3"
  },
  "language_info": {
   "codemirror_mode": {
    "name": "ipython",
    "version": 3
   },
   "file_extension": ".py",
   "mimetype": "text/x-python",
   "name": "python",
   "nbconvert_exporter": "python",
   "pygments_lexer": "ipython3",
   "version": "3.6.1"
  }
 },
 "nbformat": 4,
 "nbformat_minor": 2
}
